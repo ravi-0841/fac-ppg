{
 "cells": [
  {
   "cell_type": "code",
   "execution_count": 1,
   "metadata": {},
   "outputs": [],
   "source": [
    "import scipy.io.wavfile as scwav\n",
    "import numpy as np\n",
    "import soundfile as sf\n",
    "import os\n",
    "# import librosa\n",
    "from glob import glob"
   ]
  },
  {
   "cell_type": "code",
   "execution_count": 2,
   "metadata": {},
   "outputs": [],
   "source": [
    "base_folder = \"/home/ravi/Downloads/VESUS-Emotion-Recog/Audio\"\n",
    "spk_folders = [str(i) for i in range(1, 11)]\n",
    "emo_folders = [\"Neutral\", \"Angry\", \"Happy\", \"Sad\", \"Fearful\"]"
   ]
  },
  {
   "cell_type": "code",
   "execution_count": 18,
   "metadata": {},
   "outputs": [],
   "source": [
    "# target_folder = \"/home/ravi/Downloads/VESUS-Emotion-Recog/int16_Audio\"\n",
    "# for s in spk_folders:\n",
    "#     for e in emo_folders:\n",
    "#         if not os.path.exists(os.path.join(target_folder, s, e)):\n",
    "#             os.makedirs(os.path.join(target_folder, s, e))\n",
    "\n",
    "#         audio_files = glob(os.path.join(base_folder, s, e, \"*.wav\"))\n",
    "#         for f in audio_files:\n",
    "#             basename = os.path.basename(f)\n",
    "#             data, sr = sf.read(f)\n",
    "#             resamp_data = librosa.resample(data, orig_sr=sr, target_sr=16000)\n",
    "#             sf.write(os.path.join(target_folder, s, e, basename), resamp_data, 16000)\n"
   ]
  },
  {
   "cell_type": "code",
   "execution_count": 7,
   "metadata": {},
   "outputs": [],
   "source": [
    "base_folder = \"/home/ravi/Downloads/VESUS-Emotion-Recog/int16_Audio\"\n",
    "for s in spk_folders:\n",
    "    for e in emo_folders:\n",
    "        audio_files = glob(os.path.join(base_folder, s, e, \"*.wav\"))\n",
    "        for f in audio_files:\n",
    "            sr, data = scwav.read(f)\n",
    "            data = np.asarray(data, np.int16)\n",
    "            # int_64_data = (data * 32767).astype(np.int16)\n",
    "            scwav.write(f, sr, data)\n",
    "            # break\n",
    "        # break\n",
    "    # break"
   ]
  }
 ],
 "metadata": {
  "kernelspec": {
   "display_name": "Python 2",
   "language": "python",
   "name": "python2"
  },
  "language_info": {
   "codemirror_mode": {
    "name": "ipython",
    "version": 3
   },
   "file_extension": ".py",
   "mimetype": "text/x-python",
   "name": "python",
   "nbconvert_exporter": "python",
   "pygments_lexer": "ipython3",
   "version": "3.7.3"
  },
  "orig_nbformat": 4,
  "vscode": {
   "interpreter": {
    "hash": "cef2571cdf7897d9aa942f27373dae81953e9ba539321630d51a2e03ee594531"
   }
  }
 },
 "nbformat": 4,
 "nbformat_minor": 2
}
